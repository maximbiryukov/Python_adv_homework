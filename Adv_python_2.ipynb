{
 "cells": [
  {
   "cell_type": "markdown",
   "metadata": {},
   "source": [
    "1. Задание на закрепление знаний по модулю CSV. Написать скрипт, осуществляющий выборку определенных данных из файлов info_1.txt, info_2.txt, info_3.txt и формирующий новый «отчетный» файл в формате CSV. Для этого:"
   ]
  },
  {
   "cell_type": "markdown",
   "metadata": {},
   "source": [
    "2. Создать функцию get_data(), в которой в цикле осуществляется перебор файлов с данными, их открытие и считывание данных. В этой функции из считанных данных необходимо с помощью регулярных выражений извлечь значения параметров «Изготовитель системы», «Название ОС», «Код продукта», «Тип системы». Значения каждого параметра поместить в соответствующий список. Должно получиться четыре списка — например, os_prod_list, os_name_list, os_code_list, os_type_list. В этой же функции создать главный список для хранения данных отчета — например, main_data — и поместить в него названия столбцов отчета в виде списка: «Изготовитель системы», «Название ОС», «Код продукта», «Тип системы». Значения для этих столбцов также оформить в виде списка и поместить в файл main_data (также для каждого файла);"
   ]
  },
  {
   "cell_type": "code",
   "execution_count": 1,
   "metadata": {},
   "outputs": [],
   "source": [
    "import os\n",
    "import re\n",
    "\n",
    "def get_data():\n",
    "    os_prod_list = []\n",
    "    os_name_list = []\n",
    "    os_code_list = []\n",
    "    os_type_list = []    \n",
    "    \n",
    "    main_data = ['Изготовитель системы', 'Название ОС', 'Код продукта', 'Тип системы']\n",
    "    \n",
    "    for input_file in os.listdir():\n",
    "        if input_file.endswith(\".txt\"):\n",
    "    \n",
    "            with open(input_file, 'r', encoding='cp1251') as file:\n",
    "                for row in file:\n",
    "                    if re.match(r'Изготовитель системы',row):\n",
    "                        os_prod_list.append(row.split()[2])\n",
    "                    if re.match(r'Название ОС',row):\n",
    "                        os_name_list.append(row.split()[2])\n",
    "                    if re.match(r'Код продукта',row):\n",
    "                        os_code_list.append(row.split()[2])\n",
    "                    if re.match(r'Тип системы',row):\n",
    "                        os_type_list.append(row.split()[2])\n",
    "            \n",
    "    return main_data, os_prod_list,os_name_list,os_code_list,os_type_list\n",
    "            \n"
   ]
  },
  {
   "cell_type": "code",
   "execution_count": 2,
   "metadata": {},
   "outputs": [
    {
     "data": {
      "text/plain": [
       "(['Изготовитель системы', 'Название ОС', 'Код продукта', 'Тип системы'],\n",
       " ['DELL', 'ACER', 'LENOVO'],\n",
       " ['Microsoft', 'Microsoft', 'Microsoft'],\n",
       " ['00971-OEM-1982661-00231',\n",
       "  '00971-OEM-1982661-00231',\n",
       "  '00971-OEM-1982661-00231'],\n",
       " ['x86-based', 'x64-based', 'x64-based'])"
      ]
     },
     "execution_count": 2,
     "metadata": {},
     "output_type": "execute_result"
    }
   ],
   "source": [
    "get_data()"
   ]
  },
  {
   "cell_type": "markdown",
   "metadata": {},
   "source": [
    "3. Создать функцию write_to_csv(), в которую передавать ссылку на CSV-файл. В этой функции реализовать получение данных через вызов функции get_data(), а также сохранение подготовленных данных в соответствующий CSV-файл;"
   ]
  },
  {
   "cell_type": "code",
   "execution_count": 3,
   "metadata": {},
   "outputs": [],
   "source": [
    "import csv\n",
    "\n",
    "def write_to_csv(data, path):\n",
    "    with open(path, \"w\", newline='') as csv_file:\n",
    "        writer = csv.writer(csv_file, delimiter=',')\n",
    "        writer.writerow(data[0])\n",
    "        for i in range(len(data[1])):\n",
    "            row = [data[1][i],data[2][i],data[3][i],data[4][i]]\n",
    "            writer.writerow(row)\n",
    "            \n",
    "            \n"
   ]
  },
  {
   "cell_type": "markdown",
   "metadata": {},
   "source": [
    "4. Проверить работу программы через вызов функции write_to_csv()."
   ]
  },
  {
   "cell_type": "code",
   "execution_count": 4,
   "metadata": {},
   "outputs": [],
   "source": [
    "write_to_csv(get_data(), 'export.csv')"
   ]
  },
  {
   "cell_type": "markdown",
   "metadata": {},
   "source": [
    "5. Задание на закрепление знаний по модулю json. Есть файл orders в формате JSON с информацией о заказах. Написать скрипт, автоматизирующий его заполнение данными. Для этого:"
   ]
  },
  {
   "cell_type": "markdown",
   "metadata": {},
   "source": [
    "6. Создать функцию write_order_to_json(), в которую передается 5 параметров — товар (item), количество (quantity), цена (price), покупатель (buyer), дата (date). Функция должна предусматривать запись данных в виде словаря в файл orders.json. При записи данных указать величину отступа в 4 пробельных символа;"
   ]
  },
  {
   "cell_type": "code",
   "execution_count": 5,
   "metadata": {},
   "outputs": [],
   "source": [
    "import json\n",
    "\n",
    "def write_order_to_json(item, quantity, price, buyer, date):\n",
    "    output = {'item':item, 'quantity':quantity, 'price':price, 'buyer':buyer, 'date':date}\n",
    "    with open('orders.json', 'a') as file:\n",
    "        json.dump(output, file, indent=4)"
   ]
  },
  {
   "cell_type": "markdown",
   "metadata": {},
   "source": [
    "7. Проверить работу программы через вызов функции write_order_to_json() с передачей в нее значений каждого параметра."
   ]
  },
  {
   "cell_type": "code",
   "execution_count": 6,
   "metadata": {},
   "outputs": [],
   "source": [
    "write_order_to_json('milk', 2,10,'me','today')"
   ]
  },
  {
   "cell_type": "markdown",
   "metadata": {},
   "source": [
    "8. Задание на закрепление знаний по модулю yaml. Написать скрипт, автоматизирующий сохранение данных в файле YAML-формата. Для этого:"
   ]
  },
  {
   "cell_type": "markdown",
   "metadata": {},
   "source": [
    "9. Подготовить данные для записи в виде словаря, в котором первому ключу соответствует список, второму — целое число, третьему — вложенный словарь, где значение каждого ключа — это целое число с юникод-символом, отсутствующим в кодировке ASCII (например, €);"
   ]
  },
  {
   "cell_type": "code",
   "execution_count": 7,
   "metadata": {},
   "outputs": [],
   "source": [
    "data = {'a_list':['a','b','c'], 'a_number':23, 'a_dict':{1:'2₱', 2:'3฿'}}"
   ]
  },
  {
   "cell_type": "markdown",
   "metadata": {},
   "source": [
    "10. Реализовать сохранение данных в файл формата YAML — например, в файл file.yaml. При этом обеспечить стилизацию файла с помощью параметра default_flow_style, а также установить возможность работы с юникодом: allow_unicode = True;"
   ]
  },
  {
   "cell_type": "code",
   "execution_count": 8,
   "metadata": {},
   "outputs": [],
   "source": [
    "from yaml import dump\n",
    "\n",
    "with open('file.yaml', 'w', encoding = \"utf-8\") as yaml_file:\n",
    "    dump = dump(data, default_flow_style = True, allow_unicode = True)\n",
    "    yaml_file.write(dump)"
   ]
  },
  {
   "cell_type": "markdown",
   "metadata": {},
   "source": [
    "11. Реализовать считывание данных из созданного файла и проверить, совпадают ли они с исходными."
   ]
  },
  {
   "cell_type": "code",
   "execution_count": 9,
   "metadata": {},
   "outputs": [
    {
     "name": "stdout",
     "output_type": "stream",
     "text": [
      "{'a_dict': {1: '2₱', 2: '3฿'}, 'a_list': ['a', 'b', 'c'], 'a_number': 23}\n"
     ]
    }
   ],
   "source": [
    "from yaml import load\n",
    "\n",
    "with open('file.yaml', 'r', encoding = \"utf-8\") as yaml_file:\n",
    "    data = load(yaml_file)\n",
    "    print(data)"
   ]
  }
 ],
 "metadata": {
  "kernelspec": {
   "display_name": "Python 3",
   "language": "python",
   "name": "python3"
  },
  "language_info": {
   "codemirror_mode": {
    "name": "ipython",
    "version": 3
   },
   "file_extension": ".py",
   "mimetype": "text/x-python",
   "name": "python",
   "nbconvert_exporter": "python",
   "pygments_lexer": "ipython3",
   "version": "3.7.1"
  }
 },
 "nbformat": 4,
 "nbformat_minor": 2
}
