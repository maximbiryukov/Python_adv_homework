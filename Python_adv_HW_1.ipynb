{
 "cells": [
  {
   "cell_type": "markdown",
   "metadata": {},
   "source": [
    "1. Каждое из слов «разработка», «сокет», «декоратор» представить в строковом формате и проверить тип и содержание соответствующих переменных. Затем с помощью онлайн-конвертера преобразовать строковые представление в формат Unicode и также проверить тип и содержимое переменных."
   ]
  },
  {
   "cell_type": "code",
   "execution_count": 13,
   "metadata": {},
   "outputs": [
    {
     "name": "stdout",
     "output_type": "stream",
     "text": [
      "Тип: <class 'str'>. Cодержание: 'разработка'\n",
      "Тип: <class 'str'>. Cодержание: 'сокет'\n",
      "Тип: <class 'str'>. Cодержание: 'декоратор'\n"
     ]
    }
   ],
   "source": [
    "str_1 = 'разработка'\n",
    "str_2 = 'сокет'\n",
    "str_3 = 'декоратор'\n",
    "\n",
    "print('Тип: {}. Cодержание: \\'{}\\''.format(type(str_1), str_1))\n",
    "print('Тип: {}. Cодержание: \\'{}\\''.format(type(str_2), str_2))\n",
    "print('Тип: {}. Cодержание: \\'{}\\''.format(type(str_3), str_3))"
   ]
  },
  {
   "cell_type": "code",
   "execution_count": 14,
   "metadata": {},
   "outputs": [
    {
     "name": "stdout",
     "output_type": "stream",
     "text": [
      "Тип: <class 'bytes'>. Cодержание: 'b'\\xd1\\x80\\xd0\\xb0\\xd0\\xb7\\xd1\\x80\\xd0\\xb0\\xd0\\xb1\\xd0\\xbe\\xd1\\x82\\xd0\\xba\\xd0\\xb0''\n",
      "Тип: <class 'bytes'>. Cодержание: 'b'\\xd1\\x81\\xd0\\xbe\\xd0\\xba\\xd0\\xb5\\xd1\\x82''\n",
      "Тип: <class 'bytes'>. Cодержание: 'b'\\xd0\\xb4\\xd0\\xb5\\xd0\\xba\\xd0\\xbe\\xd1\\x80\\xd0\\xb0\\xd1\\x82\\xd0\\xbe\\xd1\\x80''\n"
     ]
    }
   ],
   "source": [
    "str_1_encoded = str_1.encode()\n",
    "str_2_encoded = str_2.encode()\n",
    "str_3_encoded = str_3.encode()\n",
    "\n",
    "print('Тип: {}. Cодержание: \\'{}\\''.format(type(str_1_encoded), str_1_encoded))\n",
    "print('Тип: {}. Cодержание: \\'{}\\''.format(type(str_2_encoded), str_2_encoded))\n",
    "print('Тип: {}. Cодержание: \\'{}\\''.format(type(str_3_encoded), str_3_encoded))"
   ]
  },
  {
   "cell_type": "markdown",
   "metadata": {},
   "source": [
    "2. Каждое из слов «class», «function», «method» записать в байтовом типе без преобразования в последовательность кодов (не используя методы encode и decode) и определить тип, содержимое и длину соответствующих переменных."
   ]
  },
  {
   "cell_type": "code",
   "execution_count": 20,
   "metadata": {},
   "outputs": [
    {
     "name": "stdout",
     "output_type": "stream",
     "text": [
      "Тип: <class 'bytes'>. Cодержание: 'b'class''. Длина: '5'\n",
      "Тип: <class 'bytes'>. Cодержание: 'b'function''. Длина: '8'\n",
      "Тип: <class 'bytes'>. Cодержание: 'b'method''. Длина: '6'\n"
     ]
    }
   ],
   "source": [
    "str_1 = b'class'\n",
    "str_2 = b'function'\n",
    "str_3 = b'method'\n",
    "\n",
    "print('Тип: {}. Cодержание: \\'{}\\'. Длина: \\'{}\\''.format(type(str_1), str_1, len(str_1)))\n",
    "print('Тип: {}. Cодержание: \\'{}\\'. Длина: \\'{}\\''.format(type(str_2), str_2, len(str_2)))\n",
    "print('Тип: {}. Cодержание: \\'{}\\'. Длина: \\'{}\\''.format(type(str_3), str_3, len(str_3)))"
   ]
  },
  {
   "cell_type": "markdown",
   "metadata": {},
   "source": [
    "3. Определить, какие из слов «attribute», «класс», «функция», «type» невозможно записать в байтовом типе."
   ]
  },
  {
   "cell_type": "code",
   "execution_count": 30,
   "metadata": {},
   "outputs": [],
   "source": [
    "str_1 = b'attribute'\n",
    "print(type(str_1))"
   ]
  },
  {
   "cell_type": "code",
   "execution_count": 34,
   "metadata": {},
   "outputs": [
    {
     "ename": "SyntaxError",
     "evalue": "bytes can only contain ASCII literal characters. (<ipython-input-34-89d0140d8eae>, line 1)",
     "output_type": "error",
     "traceback": [
      "\u001b[0;36m  File \u001b[0;32m\"<ipython-input-34-89d0140d8eae>\"\u001b[0;36m, line \u001b[0;32m1\u001b[0m\n\u001b[0;31m    str_2 = b'класс'\u001b[0m\n\u001b[0m           ^\u001b[0m\n\u001b[0;31mSyntaxError\u001b[0m\u001b[0;31m:\u001b[0m bytes can only contain ASCII literal characters.\n"
     ]
    }
   ],
   "source": [
    "str_2 = b'класс'\n",
    "print(type(str_2))"
   ]
  },
  {
   "cell_type": "code",
   "execution_count": 35,
   "metadata": {},
   "outputs": [
    {
     "ename": "SyntaxError",
     "evalue": "bytes can only contain ASCII literal characters. (<ipython-input-35-a306dc1bc1b6>, line 1)",
     "output_type": "error",
     "traceback": [
      "\u001b[0;36m  File \u001b[0;32m\"<ipython-input-35-a306dc1bc1b6>\"\u001b[0;36m, line \u001b[0;32m1\u001b[0m\n\u001b[0;31m    str_3 = b'функция'\u001b[0m\n\u001b[0m           ^\u001b[0m\n\u001b[0;31mSyntaxError\u001b[0m\u001b[0;31m:\u001b[0m bytes can only contain ASCII literal characters.\n"
     ]
    }
   ],
   "source": [
    "str_3 = b'функция'\n",
    "print(type(str_3))"
   ]
  },
  {
   "cell_type": "code",
   "execution_count": 36,
   "metadata": {},
   "outputs": [
    {
     "name": "stdout",
     "output_type": "stream",
     "text": [
      "<class 'bytes'>\n"
     ]
    }
   ],
   "source": [
    "str_4 = b'type'\n",
    "print(type(str_4))"
   ]
  },
  {
   "cell_type": "markdown",
   "metadata": {},
   "source": [
    "4. Преобразовать слова «разработка», «администрирование», «protocol», «standard» из строкового представления в байтовое и выполнить обратное преобразование (используя методы encode и decode)."
   ]
  },
  {
   "cell_type": "code",
   "execution_count": 40,
   "metadata": {},
   "outputs": [
    {
     "name": "stdout",
     "output_type": "stream",
     "text": [
      "Тип: <class 'str'>. Cодержание: 'разработка'\n",
      "Тип: <class 'str'>. Cодержание: 'администрирование'\n",
      "Тип: <class 'str'>. Cодержание: 'protocol'\n",
      "Тип: <class 'str'>. Cодержание: 'standard'\n"
     ]
    }
   ],
   "source": [
    "str_1 = 'разработка'\n",
    "str_2 = 'администрирование'\n",
    "str_3 = 'protocol'\n",
    "str_4 = 'standard'\n",
    "\n",
    "str_1_encoded = str_1.encode()\n",
    "str_2_encoded = str_2.encode()\n",
    "str_3_encoded = str_3.encode()\n",
    "str_4_encoded = str_4.encode()\n",
    "\n",
    "str_1_decoded = str_1_encoded.decode()\n",
    "str_2_decoded = str_2_encoded.decode()\n",
    "str_3_decoded = str_3_encoded.decode()\n",
    "str_4_decoded = str_4_encoded.decode()\n",
    "\n",
    "print('Тип: {}. Cодержание: \\'{}\\''.format(type(str_1_decoded), str_1_decoded))\n",
    "print('Тип: {}. Cодержание: \\'{}\\''.format(type(str_2_decoded), str_2_decoded))\n",
    "print('Тип: {}. Cодержание: \\'{}\\''.format(type(str_3_decoded), str_3_decoded))\n",
    "print('Тип: {}. Cодержание: \\'{}\\''.format(type(str_4_decoded), str_4_decoded))"
   ]
  },
  {
   "cell_type": "markdown",
   "metadata": {},
   "source": [
    "5. Выполнить пинг веб-ресурсов yandex.ru, youtube.com и преобразовать результаты из байтовового в строковый тип на кириллице."
   ]
  },
  {
   "cell_type": "code",
   "execution_count": 59,
   "metadata": {},
   "outputs": [
    {
     "name": "stdout",
     "output_type": "stream",
     "text": [
      "<class 'str'> <class 'str'>\n"
     ]
    }
   ],
   "source": [
    "import requests\n",
    "\n",
    "yandex = requests.get('http://yandex.ru')\n",
    "youtube = requests.get('http://youtube.com')\n",
    "\n",
    "yandex_content = yandex.content.decode()\n",
    "youtube_content = youtube.content.decode()\n",
    "\n",
    "print(type(yandex_content), type(youtube_content))"
   ]
  },
  {
   "cell_type": "markdown",
   "metadata": {},
   "source": [
    "6. Создать текстовый файл test_file.txt, заполнить его тремя строками: «сетевое программирование», «сокет», «декоратор». Проверить кодировку файла по умолчанию. Принудительно открыть файл в формате Unicode и вывести его содержимое."
   ]
  },
  {
   "cell_type": "code",
   "execution_count": 83,
   "metadata": {},
   "outputs": [
    {
     "data": {
      "text/plain": [
       "<_io.TextIOWrapper name='test_file.txt' mode='w' encoding='UTF-8'>"
      ]
     },
     "execution_count": 83,
     "metadata": {},
     "output_type": "execute_result"
    }
   ],
   "source": [
    "test_file = open('test_file.txt', 'w')\n",
    "strings = ['сетевое программирование', 'сокет', 'декоратор']\n",
    "\n",
    "for item in strings:\n",
    "    test_file.write(item + '\\n')\n",
    "    \n",
    "test_file"
   ]
  },
  {
   "cell_type": "code",
   "execution_count": 104,
   "metadata": {},
   "outputs": [
    {
     "name": "stdout",
     "output_type": "stream",
     "text": [
      "сетевое программирование\n",
      "\n",
      "сокет\n",
      "\n",
      "декоратор\n",
      "\n"
     ]
    }
   ],
   "source": [
    "test_file = open('test_file.txt', 'r', encoding = 'utf-8')\n",
    "\n",
    "lines = test_file.readlines()\n",
    "\n",
    "for line in lines:\n",
    "    line.strip('\\n')\n",
    "    print(line)"
   ]
  },
  {
   "cell_type": "markdown",
   "metadata": {},
   "source": [
    "7. Реализовать приведение строк \"разработка\", \"сокет\", \"декоратор\" к типу bytes используя нативные методы строк;"
   ]
  },
  {
   "cell_type": "code",
   "execution_count": 106,
   "metadata": {},
   "outputs": [
    {
     "name": "stdout",
     "output_type": "stream",
     "text": [
      "Тип: <class 'bytes'>. Cодержание: 'b'\\xd1\\x80\\xd0\\xb0\\xd0\\xb7\\xd1\\x80\\xd0\\xb0\\xd0\\xb1\\xd0\\xbe\\xd1\\x82\\xd0\\xba\\xd0\\xb0''\n",
      "Тип: <class 'bytes'>. Cодержание: 'b'\\xd1\\x81\\xd0\\xbe\\xd0\\xba\\xd0\\xb5\\xd1\\x82''\n",
      "Тип: <class 'bytes'>. Cодержание: 'b'\\xd0\\xb4\\xd0\\xb5\\xd0\\xba\\xd0\\xbe\\xd1\\x80\\xd0\\xb0\\xd1\\x82\\xd0\\xbe\\xd1\\x80''\n"
     ]
    }
   ],
   "source": [
    "str_1 = 'разработка'\n",
    "str_2 = 'сокет'\n",
    "str_3 = 'декоратор'\n",
    "\n",
    "str_1_encoded = str_1.encode()\n",
    "str_2_encoded = str_2.encode()\n",
    "str_3_encoded = str_3.encode()\n",
    "\n",
    "print('Тип: {}. Cодержание: \\'{}\\''.format(type(str_1_encoded), str_1_encoded))\n",
    "print('Тип: {}. Cодержание: \\'{}\\''.format(type(str_2_encoded), str_2_encoded))\n",
    "print('Тип: {}. Cодержание: \\'{}\\''.format(type(str_3_encoded), str_3_encoded))"
   ]
  },
  {
   "cell_type": "markdown",
   "metadata": {},
   "source": [
    "8. Реализовать приведение полученных экземпляров типа bytes к типу str;"
   ]
  },
  {
   "cell_type": "code",
   "execution_count": 107,
   "metadata": {},
   "outputs": [
    {
     "name": "stdout",
     "output_type": "stream",
     "text": [
      "Тип: <class 'str'>. Cодержание: 'разработка'\n",
      "Тип: <class 'str'>. Cодержание: 'сокет'\n",
      "Тип: <class 'str'>. Cодержание: 'декоратор'\n"
     ]
    }
   ],
   "source": [
    "str_1_decoded = str_1_encoded.decode()\n",
    "str_2_decoded = str_2_encoded.decode()\n",
    "str_3_decoded = str_3_encoded.decode()\n",
    "\n",
    "print('Тип: {}. Cодержание: \\'{}\\''.format(type(str_1_decoded), str_1_decoded))\n",
    "print('Тип: {}. Cодержание: \\'{}\\''.format(type(str_2_decoded), str_2_decoded))\n",
    "print('Тип: {}. Cодержание: \\'{}\\''.format(type(str_3_decoded), str_3_decoded))"
   ]
  },
  {
   "cell_type": "markdown",
   "metadata": {},
   "source": [
    "9. Реализовать приведение полученных строк и байтовых последовательностей с использование различных кодировок utf-8 latin-1."
   ]
  },
  {
   "cell_type": "code",
   "execution_count": 113,
   "metadata": {},
   "outputs": [
    {
     "name": "stdout",
     "output_type": "stream",
     "text": [
      "разработка сокет декоратор\n"
     ]
    }
   ],
   "source": [
    "str_1_decoded = str_1_encoded.decode('utf-8')\n",
    "str_2_decoded = str_2_encoded.decode('utf-8')\n",
    "str_3_decoded = str_3_encoded.decode('utf-8')\n",
    "\n",
    "print(str_1_decoded, str_2_decoded, str_3_decoded)"
   ]
  },
  {
   "cell_type": "code",
   "execution_count": 114,
   "metadata": {},
   "outputs": [
    {
     "name": "stdout",
     "output_type": "stream",
     "text": [
      "ÑÐ°Ð·ÑÐ°Ð±Ð¾ÑÐºÐ° ÑÐ¾ÐºÐµÑ Ð´ÐµÐºÐ¾ÑÐ°ÑÐ¾Ñ\n"
     ]
    }
   ],
   "source": [
    "str_1_decoded = str_1_encoded.decode('latin-1')\n",
    "str_2_decoded = str_2_encoded.decode('latin-1')\n",
    "str_3_decoded = str_3_encoded.decode('latin-1')\n",
    "\n",
    "print(str_1_decoded, str_2_decoded, str_3_decoded)"
   ]
  }
 ],
 "metadata": {
  "kernelspec": {
   "display_name": "Python 3",
   "language": "python",
   "name": "python3"
  },
  "language_info": {
   "codemirror_mode": {
    "name": "ipython",
    "version": 3
   },
   "file_extension": ".py",
   "mimetype": "text/x-python",
   "name": "python",
   "nbconvert_exporter": "python",
   "pygments_lexer": "ipython3",
   "version": "3.7.1"
  }
 },
 "nbformat": 4,
 "nbformat_minor": 2
}
